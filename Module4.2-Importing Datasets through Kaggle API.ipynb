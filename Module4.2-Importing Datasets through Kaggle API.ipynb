{
 "cells": [
  {
   "cell_type": "markdown",
   "id": "2bd9291f-de64-457b-923e-969a9991e36e",
   "metadata": {},
   "source": [
    "##### API - Application Programming Interface"
   ]
  },
  {
   "cell_type": "code",
   "execution_count": 1,
   "id": "49c4c630-d03a-4afa-958b-508953ff5550",
   "metadata": {},
   "outputs": [
    {
     "name": "stdout",
     "output_type": "stream",
     "text": [
      "Collecting kaggle\n",
      "  Downloading kaggle-1.7.4.5-py3-none-any.whl.metadata (16 kB)\n",
      "Requirement already satisfied: bleach in c:\\users\\ktamhane\\appdata\\local\\anaconda3\\lib\\site-packages (from kaggle) (4.1.0)\n",
      "Requirement already satisfied: certifi>=14.05.14 in c:\\users\\ktamhane\\appdata\\local\\anaconda3\\lib\\site-packages (from kaggle) (2024.8.30)\n",
      "Requirement already satisfied: charset-normalizer in c:\\users\\ktamhane\\appdata\\local\\anaconda3\\lib\\site-packages (from kaggle) (3.3.2)\n",
      "Requirement already satisfied: idna in c:\\users\\ktamhane\\appdata\\local\\anaconda3\\lib\\site-packages (from kaggle) (3.7)\n",
      "Requirement already satisfied: protobuf in c:\\users\\ktamhane\\appdata\\local\\anaconda3\\lib\\site-packages (from kaggle) (4.25.3)\n",
      "Requirement already satisfied: python-dateutil>=2.5.3 in c:\\users\\ktamhane\\appdata\\local\\anaconda3\\lib\\site-packages (from kaggle) (2.9.0.post0)\n",
      "Requirement already satisfied: python-slugify in c:\\users\\ktamhane\\appdata\\local\\anaconda3\\lib\\site-packages (from kaggle) (5.0.2)\n",
      "Requirement already satisfied: requests in c:\\users\\ktamhane\\appdata\\local\\anaconda3\\lib\\site-packages (from kaggle) (2.32.3)\n",
      "Requirement already satisfied: setuptools>=21.0.0 in c:\\users\\ktamhane\\appdata\\local\\anaconda3\\lib\\site-packages (from kaggle) (75.1.0)\n",
      "Requirement already satisfied: six>=1.10 in c:\\users\\ktamhane\\appdata\\local\\anaconda3\\lib\\site-packages (from kaggle) (1.16.0)\n",
      "Requirement already satisfied: text-unidecode in c:\\users\\ktamhane\\appdata\\local\\anaconda3\\lib\\site-packages (from kaggle) (1.3)\n",
      "Requirement already satisfied: tqdm in c:\\users\\ktamhane\\appdata\\local\\anaconda3\\lib\\site-packages (from kaggle) (4.66.5)\n",
      "Requirement already satisfied: urllib3>=1.15.1 in c:\\users\\ktamhane\\appdata\\local\\anaconda3\\lib\\site-packages (from kaggle) (2.2.3)\n",
      "Requirement already satisfied: webencodings in c:\\users\\ktamhane\\appdata\\local\\anaconda3\\lib\\site-packages (from kaggle) (0.5.1)\n",
      "Requirement already satisfied: packaging in c:\\users\\ktamhane\\appdata\\local\\anaconda3\\lib\\site-packages (from bleach->kaggle) (24.1)\n",
      "Requirement already satisfied: colorama in c:\\users\\ktamhane\\appdata\\local\\anaconda3\\lib\\site-packages (from tqdm->kaggle) (0.4.6)\n",
      "Downloading kaggle-1.7.4.5-py3-none-any.whl (181 kB)\n",
      "Installing collected packages: kaggle\n",
      "Successfully installed kaggle-1.7.4.5\n"
     ]
    }
   ],
   "source": [
    "# installing the Kaggle Library\n",
    "!pip install kaggle"
   ]
  },
  {
   "cell_type": "markdown",
   "id": "d5480501-aa10-4e72-b330-88503a205c13",
   "metadata": {},
   "source": [
    "#### Upload your Kaggle .json file"
   ]
  },
  {
   "cell_type": "code",
   "execution_count": 5,
   "id": "351f5b2f-2c9e-4c86-8438-5894f4af0307",
   "metadata": {},
   "outputs": [
    {
     "name": "stdout",
     "output_type": "stream",
     "text": [
      "Kaggle API key setup complete.\n"
     ]
    }
   ],
   "source": [
    "import os\n",
    "import shutil\n",
    "\n",
    "# Create .kaggle directory if it doesn't exist\n",
    "kaggle_dir = os.path.expanduser(\"~/.kaggle\")\n",
    "os.makedirs(kaggle_dir, exist_ok=True)\n",
    "\n",
    "# Move kaggle.json to ~/.kaggle/\n",
    "shutil.copy(\"kaggle (1).json\", kaggle_dir)\n",
    "\n",
    "# Set file permissions (optional on Windows, but harmless)\n",
    "kaggle_json_path = os.path.join(kaggle_dir, \"kaggle.json\")\n",
    "os.chmod(kaggle_json_path, 0o600)\n",
    "\n",
    "print(\"Kaggle API key setup complete.\")\n"
   ]
  },
  {
   "cell_type": "code",
   "execution_count": 7,
   "id": "12f167fe-340f-4e91-b0fe-cf3bea3f031c",
   "metadata": {},
   "outputs": [
    {
     "name": "stdout",
     "output_type": "stream",
     "text": [
      "401 Client Error: Unauthorized for url: https://www.kaggle.com/api/v1/competitions/data/download-all/LANL-Earthquake-Prediction\n"
     ]
    }
   ],
   "source": [
    "# Import the dataset using APIs\n",
    "# API to fetch Earthquake dataset from kaggle\n",
    "!kaggle competitions download -c LANL-Earthquake-Prediction\n"
   ]
  },
  {
   "cell_type": "code",
   "execution_count": 8,
   "id": "faf059d6-efed-4ad1-9727-f7899c9959da",
   "metadata": {},
   "outputs": [
    {
     "name": "stdout",
     "output_type": "stream",
     "text": [
      "401 Client Error: Unauthorized for url: https://www.kaggle.com/api/v1/competitions/data/list/LANL-Earthquake-Prediction?pagesize=20\n"
     ]
    }
   ],
   "source": [
    "!kaggle competitions files -c LANL-Earthquake-Prediction"
   ]
  },
  {
   "cell_type": "code",
   "execution_count": 9,
   "id": "00117a33-7055-4fa8-9c59-b7d0bb325e1a",
   "metadata": {},
   "outputs": [],
   "source": [
    "import os\n",
    "import shutil\n",
    "\n",
    "# Remove old kaggle directory\n",
    "kaggle_dir = os.path.expanduser(\"~/.kaggle\")\n",
    "if os.path.exists(kaggle_dir):\n",
    "    shutil.rmtree(kaggle_dir)\n"
   ]
  },
  {
   "cell_type": "code",
   "execution_count": 10,
   "id": "d894d32e-5872-4de1-86a5-595b2d554e3e",
   "metadata": {},
   "outputs": [],
   "source": [
    "import os\n",
    "import shutil\n",
    "\n",
    "# Create new kaggle directory\n",
    "kaggle_dir = os.path.expanduser(\"~/.kaggle\")\n",
    "os.makedirs(kaggle_dir, exist_ok=True)\n",
    "\n",
    "# Copy kaggle.json from your local folder to the right place\n",
    "shutil.copy(\"kaggle (1).json\", kaggle_dir)\n",
    "\n",
    "# Set permissions (safe on Windows too)\n",
    "os.chmod(os.path.join(kaggle_dir, \"kaggle (1).json\"), 0o600)\n"
   ]
  },
  {
   "cell_type": "code",
   "execution_count": 11,
   "id": "442e35a4-9009-43d2-a72f-4f8a03816f4f",
   "metadata": {},
   "outputs": [
    {
     "name": "stderr",
     "output_type": "stream",
     "text": [
      "Traceback (most recent call last):\n",
      "  File \"<frozen runpy>\", line 198, in _run_module_as_main\n",
      "  File \"<frozen runpy>\", line 88, in _run_code\n",
      "  File \"C:\\Users\\ktamhane\\AppData\\Local\\anaconda3\\Scripts\\kaggle.exe\\__main__.py\", line 4, in <module>\n",
      "  File \"C:\\Users\\ktamhane\\AppData\\Local\\anaconda3\\Lib\\site-packages\\kaggle\\__init__.py\", line 6, in <module>\n",
      "    api.authenticate()\n",
      "  File \"C:\\Users\\ktamhane\\AppData\\Local\\anaconda3\\Lib\\site-packages\\kaggle\\api\\kaggle_api_extended.py\", line 434, in authenticate\n",
      "    raise IOError('Could not find {}. Make sure it\\'s located in'\n",
      "OSError: Could not find kaggle.json. Make sure it's located in C:\\Users\\ktamhane\\.kaggle. Or use the environment method. See setup instructions at https://github.com/Kaggle/kaggle-api/\n"
     ]
    }
   ],
   "source": [
    "C:\\Users\\ktamhane\\Desktop\\Interview Prep\\Machine Learning Basics\\.kaggle\n",
    "\n"
   ]
  },
  {
   "cell_type": "code",
   "execution_count": null,
   "id": "90d3ee61-4a78-43b8-9414-ce879649e81e",
   "metadata": {},
   "outputs": [],
   "source": []
  }
 ],
 "metadata": {
  "kernelspec": {
   "display_name": "Python 3 (ipykernel)",
   "language": "python",
   "name": "python3"
  },
  "language_info": {
   "codemirror_mode": {
    "name": "ipython",
    "version": 3
   },
   "file_extension": ".py",
   "mimetype": "text/x-python",
   "name": "python",
   "nbconvert_exporter": "python",
   "pygments_lexer": "ipython3",
   "version": "3.12.7"
  }
 },
 "nbformat": 4,
 "nbformat_minor": 5
}
