{
 "cells": [
  {
   "cell_type": "markdown",
   "id": "d4b6bcd1-a955-42a5-aa8b-2337b4d80670",
   "metadata": {},
   "source": [
    "# Module 2: Python Basics for Machine Learning"
   ]
  },
  {
   "cell_type": "markdown",
   "id": "bb13e484-baef-474b-ac2c-3c67ea985656",
   "metadata": {
    "jp-MarkdownHeadingCollapsed": true
   },
   "source": [
    "## Module 2.1: Basics of Python- Printing, Variables, Taking Input, Concatenation."
   ]
  },
  {
   "cell_type": "markdown",
   "id": "9b41b00d-caab-47d3-a3b1-5febe23ca0dd",
   "metadata": {},
   "source": [
    "**Print Function**:"
   ]
  },
  {
   "cell_type": "code",
   "execution_count": 4,
   "id": "a30d0254-8660-4c72-8571-e24be6f69191",
   "metadata": {},
   "outputs": [
    {
     "name": "stdout",
     "output_type": "stream",
     "text": [
      "Machine Learning\n",
      "Machine Learning\n"
     ]
    }
   ],
   "source": [
    "print(\"Machine Learning\")\n",
    "print('Machine Learning')"
   ]
  },
  {
   "cell_type": "markdown",
   "id": "597db85e-59b8-447f-bd12-552bcd3a3bda",
   "metadata": {},
   "source": [
    "**Concatenation of Strings**:"
   ]
  },
  {
   "cell_type": "code",
   "execution_count": 5,
   "id": "70b9fe8f-6969-432b-9e92-b1644a0135d0",
   "metadata": {},
   "outputs": [
    {
     "name": "stdout",
     "output_type": "stream",
     "text": [
      "Machine Learning Projects\n"
     ]
    }
   ],
   "source": [
    "print(\"Machine Learning\" + \" Projects\")"
   ]
  },
  {
   "cell_type": "markdown",
   "id": "5b483769-6c92-420b-83f5-6ec73f139cba",
   "metadata": {},
   "source": [
    "**Printing Numbers**:"
   ]
  },
  {
   "cell_type": "raw",
   "id": "c0a048eb-e9ab-4522-bdc4-83b752f6096e",
   "metadata": {},
   "source": [
    "Printing Numbers like intergers, float and double donot need Quotes"
   ]
  },
  {
   "cell_type": "code",
   "execution_count": 6,
   "id": "46ba245a-4672-4ab4-ae42-0217870b5ba5",
   "metadata": {},
   "outputs": [
    {
     "name": "stdout",
     "output_type": "stream",
     "text": [
      "8\n"
     ]
    }
   ],
   "source": [
    "print(8)"
   ]
  },
  {
   "cell_type": "code",
   "execution_count": 7,
   "id": "fcbc2b57-82a2-49b0-ba80-8c1ceb14f77d",
   "metadata": {},
   "outputs": [
    {
     "name": "stdout",
     "output_type": "stream",
     "text": [
      "11\n"
     ]
    }
   ],
   "source": [
    "print(8+3) "
   ]
  },
  {
   "cell_type": "markdown",
   "id": "b812d3af-b9eb-4410-a74d-549686098753",
   "metadata": {},
   "source": [
    "**Basic Data types in Python**:"
   ]
  },
  {
   "cell_type": "markdown",
   "id": "e2d6b4a5-11ef-4ed1-a5b2-7d54e7f99c34",
   "metadata": {},
   "source": [
    "Three Basic Data types in Python are:\n",
    "- int\n",
    "- float\n",
    "- str"
   ]
  },
  {
   "cell_type": "code",
   "execution_count": 8,
   "id": "71df77a1-58ae-4d65-90f1-668b9702cdf0",
   "metadata": {},
   "outputs": [
    {
     "data": {
      "text/plain": [
       "int"
      ]
     },
     "execution_count": 8,
     "metadata": {},
     "output_type": "execute_result"
    }
   ],
   "source": [
    "type(8)"
   ]
  },
  {
   "cell_type": "code",
   "execution_count": 9,
   "id": "e8f5738f-1f5f-4aa6-ae34-34716490fbf4",
   "metadata": {},
   "outputs": [
    {
     "data": {
      "text/plain": [
       "float"
      ]
     },
     "execution_count": 9,
     "metadata": {},
     "output_type": "execute_result"
    }
   ],
   "source": [
    "type(5.3)"
   ]
  },
  {
   "cell_type": "code",
   "execution_count": 10,
   "id": "1711818e-5d2c-4826-b306-957c678bf55b",
   "metadata": {},
   "outputs": [
    {
     "data": {
      "text/plain": [
       "str"
      ]
     },
     "execution_count": 10,
     "metadata": {},
     "output_type": "execute_result"
    }
   ],
   "source": [
    "type(\"english\")"
   ]
  },
  {
   "cell_type": "markdown",
   "id": "2d07803e-e30c-4bf0-b861-62fa9ed43d6a",
   "metadata": {},
   "source": [
    "**Constants and Variables:**"
   ]
  },
  {
   "cell_type": "markdown",
   "id": "dfb818d8-b4d5-4c46-8c20-57fa5eb84a27",
   "metadata": {},
   "source": [
    "**Variables** are something who's values can be changed.\n",
    "\n",
    "**Constants** are something who's values can not be changed."
   ]
  },
  {
   "cell_type": "code",
   "execution_count": 14,
   "id": "f0f0af65-2afa-465b-bc64-610c87def830",
   "metadata": {},
   "outputs": [
    {
     "name": "stdout",
     "output_type": "stream",
     "text": [
      "Iron Man\n"
     ]
    }
   ],
   "source": [
    "# This is a Variable\n",
    "marvel_superhero = \"Iron Man\"\n",
    "print(marvel_superhero)"
   ]
  },
  {
   "cell_type": "code",
   "execution_count": 15,
   "id": "61aabe2a-3c9c-4aa7-bd95-6999a8fcf084",
   "metadata": {},
   "outputs": [
    {
     "name": "stdout",
     "output_type": "stream",
     "text": [
      "Captain America\n"
     ]
    }
   ],
   "source": [
    "marvel_superhero = \"Captain America\"\n",
    "print(marvel_superhero)"
   ]
  },
  {
   "cell_type": "code",
   "execution_count": 16,
   "id": "f07f9ae2-c4a5-4fe6-b48f-839cf9a32912",
   "metadata": {},
   "outputs": [
    {
     "name": "stdout",
     "output_type": "stream",
     "text": [
      "Iron Man\n",
      "Captain America\n",
      "Batman\n"
     ]
    }
   ],
   "source": [
    "hero1, hero2, hero3 = \"Iron Man\", \"Captain America\", \"Batman\"\n",
    "print(hero1)\n",
    "print(hero2)\n",
    "print(hero3)"
   ]
  },
  {
   "cell_type": "code",
   "execution_count": 17,
   "id": "9472fa6d-8eff-406b-a3c8-8385446385d2",
   "metadata": {},
   "outputs": [
    {
     "name": "stdout",
     "output_type": "stream",
     "text": [
      "23\n",
      "23\n",
      "23\n"
     ]
    }
   ],
   "source": [
    "x = y = z = 23\n",
    "print(x)\n",
    "print(y)\n",
    "print(z)"
   ]
  },
  {
   "cell_type": "markdown",
   "id": "cdd5413b-bb4b-4737-ba64-b4ef6a2cb0f5",
   "metadata": {},
   "source": [
    "**Input function in Python**"
   ]
  },
  {
   "cell_type": "code",
   "execution_count": 28,
   "id": "ebaba337-ab9a-4e97-97c2-10d3627997c3",
   "metadata": {},
   "outputs": [
    {
     "name": "stdin",
     "output_type": "stream",
     "text": [
      "Enter the First Number:  23\n",
      "Enter the Second Number:  23\n"
     ]
    }
   ],
   "source": [
    "number_1 = input(\"Enter the First Number: \")\n",
    "number_2 = input(\"Enter the Second Number: \")"
   ]
  },
  {
   "cell_type": "code",
   "execution_count": 29,
   "id": "46a6b2dc-b7bf-4b59-b471-1d8c51574462",
   "metadata": {},
   "outputs": [
    {
     "name": "stdout",
     "output_type": "stream",
     "text": [
      "23\n",
      "23\n"
     ]
    }
   ],
   "source": [
    "print(number_1)\n",
    "print(number_2)"
   ]
  },
  {
   "cell_type": "code",
   "execution_count": 30,
   "id": "f7898ee1-5afb-45e8-bf96-72432dd906a9",
   "metadata": {},
   "outputs": [
    {
     "name": "stdout",
     "output_type": "stream",
     "text": [
      "2323\n"
     ]
    }
   ],
   "source": [
    "sum = number_1 + number_2\n",
    "print(sum)"
   ]
  },
  {
   "cell_type": "code",
   "execution_count": 31,
   "id": "fa098a43-d8fb-4c8a-8e83-25062a7b8d2e",
   "metadata": {},
   "outputs": [
    {
     "name": "stdin",
     "output_type": "stream",
     "text": [
      "Enter the First Number:  23\n",
      "Enter the Second Number:  23\n"
     ]
    }
   ],
   "source": [
    "number_1 = int(input(\"Enter the First Number: \"))\n",
    "number_2 = int(input(\"Enter the Second Number: \"))"
   ]
  },
  {
   "cell_type": "code",
   "execution_count": 32,
   "id": "4f4b21ab-3fd5-40b6-aa5a-077da050f52a",
   "metadata": {},
   "outputs": [
    {
     "name": "stdout",
     "output_type": "stream",
     "text": [
      "46\n"
     ]
    }
   ],
   "source": [
    "sum = number_1 + number_2\n",
    "print(sum)"
   ]
  },
  {
   "cell_type": "code",
   "execution_count": 33,
   "id": "826a08fa-32d4-4102-aaef-789822d291ef",
   "metadata": {},
   "outputs": [
    {
     "data": {
      "text/plain": [
       "int"
      ]
     },
     "execution_count": 33,
     "metadata": {},
     "output_type": "execute_result"
    }
   ],
   "source": [
    "# Changing the Data type in Python\n",
    "num = 5\n",
    "type(num)"
   ]
  },
  {
   "cell_type": "code",
   "execution_count": 34,
   "id": "d8703ff2-7b4a-4711-beb2-4463b2aedde3",
   "metadata": {},
   "outputs": [
    {
     "data": {
      "text/plain": [
       "5.0"
      ]
     },
     "execution_count": 34,
     "metadata": {},
     "output_type": "execute_result"
    }
   ],
   "source": [
    "float(num)"
   ]
  },
  {
   "cell_type": "code",
   "execution_count": 36,
   "id": "1026bce7-2cd2-473b-ab71-1fb7a3c22a80",
   "metadata": {},
   "outputs": [
    {
     "data": {
      "text/plain": [
       "float"
      ]
     },
     "execution_count": 36,
     "metadata": {},
     "output_type": "execute_result"
    }
   ],
   "source": [
    "type(float(num))"
   ]
  },
  {
   "cell_type": "markdown",
   "id": "9d6192bb-eb85-494d-940e-b26caec8e7ce",
   "metadata": {
    "jp-MarkdownHeadingCollapsed": true
   },
   "source": [
    "## Module 2.2: Basics of Python- Basic Data types in Python."
   ]
  },
  {
   "cell_type": "markdown",
   "id": "311f6b15-36a5-4cba-802b-835c6dcae5da",
   "metadata": {},
   "source": [
    "#### Basic Data types in Python\n",
    "- Integer\n",
    "- Float\n",
    "- Complex\n",
    "- Boolean\n",
    "- String"
   ]
  },
  {
   "cell_type": "markdown",
   "id": "3c423bb0-4733-4302-80ec-719b2c1a6d37",
   "metadata": {},
   "source": [
    "#### 1) Integers"
   ]
  },
  {
   "cell_type": "code",
   "execution_count": 37,
   "id": "f97e95da-cfe9-4e9e-9c98-3085a728a4c9",
   "metadata": {},
   "outputs": [
    {
     "name": "stdout",
     "output_type": "stream",
     "text": [
      "8\n"
     ]
    }
   ],
   "source": [
    "# Integers\n",
    "a = 8\n",
    "print(a)"
   ]
  },
  {
   "cell_type": "code",
   "execution_count": 38,
   "id": "1c4f5f15-cb88-4b71-8d6a-2d4a6d29d01a",
   "metadata": {},
   "outputs": [
    {
     "data": {
      "text/plain": [
       "int"
      ]
     },
     "execution_count": 38,
     "metadata": {},
     "output_type": "execute_result"
    }
   ],
   "source": [
    "type(a)"
   ]
  },
  {
   "cell_type": "markdown",
   "id": "29259236-7a58-49cc-b839-be81a02f6415",
   "metadata": {},
   "source": [
    "#### 2) Floating Points"
   ]
  },
  {
   "cell_type": "code",
   "execution_count": 39,
   "id": "618cabba-eb6c-44f3-9791-aa999bbf5409",
   "metadata": {},
   "outputs": [
    {
     "name": "stdout",
     "output_type": "stream",
     "text": [
      "2.3\n"
     ]
    }
   ],
   "source": [
    "# Floating Point\n",
    "b = 2.3\n",
    "print(b)"
   ]
  },
  {
   "cell_type": "code",
   "execution_count": 40,
   "id": "d39aa8f5-6303-443c-a310-22713dddd111",
   "metadata": {},
   "outputs": [
    {
     "data": {
      "text/plain": [
       "float"
      ]
     },
     "execution_count": 40,
     "metadata": {},
     "output_type": "execute_result"
    }
   ],
   "source": [
    "type(b)"
   ]
  },
  {
   "cell_type": "markdown",
   "id": "46c601ae-c979-4332-a6b2-6c94dd8e28cd",
   "metadata": {},
   "source": [
    "#### 3) Complex Numbers"
   ]
  },
  {
   "cell_type": "code",
   "execution_count": 41,
   "id": "7c9e4843-5ed9-4be5-9b8b-f3c317b75522",
   "metadata": {},
   "outputs": [
    {
     "name": "stdout",
     "output_type": "stream",
     "text": [
      "(1+3j)\n"
     ]
    }
   ],
   "source": [
    "# Complex Numbers\n",
    "c = 1 + 3j\n",
    "print(c)"
   ]
  },
  {
   "cell_type": "code",
   "execution_count": 42,
   "id": "194d7fb9-8998-4728-a461-216d2e9a03dc",
   "metadata": {},
   "outputs": [
    {
     "data": {
      "text/plain": [
       "complex"
      ]
     },
     "execution_count": 42,
     "metadata": {},
     "output_type": "execute_result"
    }
   ],
   "source": [
    "type(c)"
   ]
  },
  {
   "cell_type": "markdown",
   "id": "86b106a7-5b80-47df-aecc-fb2ae3aceef5",
   "metadata": {},
   "source": [
    "Type Casting or Conversion of one data type to another"
   ]
  },
  {
   "cell_type": "markdown",
   "id": "df6e0429-df96-40ba-9bd0-7dd90834d11b",
   "metadata": {},
   "source": [
    "Converting Integer to Float Point"
   ]
  },
  {
   "cell_type": "code",
   "execution_count": 43,
   "id": "3f3e6af1-1631-4971-b707-84be1daf8fd7",
   "metadata": {},
   "outputs": [
    {
     "name": "stdout",
     "output_type": "stream",
     "text": [
      "10\n"
     ]
    },
    {
     "data": {
      "text/plain": [
       "int"
      ]
     },
     "execution_count": 43,
     "metadata": {},
     "output_type": "execute_result"
    }
   ],
   "source": [
    "x = 10\n",
    "print(x)\n",
    "type(x)"
   ]
  },
  {
   "cell_type": "code",
   "execution_count": 44,
   "id": "a6916bb8-5104-4ae1-b898-47b5848f1288",
   "metadata": {},
   "outputs": [
    {
     "name": "stdout",
     "output_type": "stream",
     "text": [
      "10.0\n"
     ]
    },
    {
     "data": {
      "text/plain": [
       "float"
      ]
     },
     "execution_count": 44,
     "metadata": {},
     "output_type": "execute_result"
    }
   ],
   "source": [
    "y = float(x)\n",
    "print(y)\n",
    "type(y)"
   ]
  },
  {
   "cell_type": "markdown",
   "id": "fdb40137-061f-4d2b-96f0-f4eeee432eab",
   "metadata": {},
   "source": [
    "Converting Floating Point value to Integer"
   ]
  },
  {
   "cell_type": "code",
   "execution_count": 45,
   "id": "8afecdf1-2f26-4f60-8c78-f6b87052e5c8",
   "metadata": {},
   "outputs": [
    {
     "name": "stdout",
     "output_type": "stream",
     "text": [
      "5.88\n"
     ]
    },
    {
     "data": {
      "text/plain": [
       "float"
      ]
     },
     "execution_count": 45,
     "metadata": {},
     "output_type": "execute_result"
    }
   ],
   "source": [
    "x = 5.88\n",
    "print(x)\n",
    "type(x)"
   ]
  },
  {
   "cell_type": "code",
   "execution_count": 46,
   "id": "21cffb4e-2bed-4b5d-87ba-19f6791df894",
   "metadata": {},
   "outputs": [
    {
     "name": "stdout",
     "output_type": "stream",
     "text": [
      "5\n"
     ]
    },
    {
     "data": {
      "text/plain": [
       "int"
      ]
     },
     "execution_count": 46,
     "metadata": {},
     "output_type": "execute_result"
    }
   ],
   "source": [
    "y = int(x)\n",
    "print (y)\n",
    "type(y)"
   ]
  },
  {
   "cell_type": "markdown",
   "id": "fc33a065-ff87-4ee3-8b10-629087b67cd5",
   "metadata": {},
   "source": [
    "#### 4) Boolean Datatype"
   ]
  },
  {
   "cell_type": "code",
   "execution_count": 50,
   "id": "6f6e4a0f-e1ab-4413-ad22-00142e531984",
   "metadata": {},
   "outputs": [
    {
     "name": "stdout",
     "output_type": "stream",
     "text": [
      "True\n"
     ]
    },
    {
     "data": {
      "text/plain": [
       "bool"
      ]
     },
     "execution_count": 50,
     "metadata": {},
     "output_type": "execute_result"
    }
   ],
   "source": [
    "# True or False\n",
    "a = True\n",
    "print(a)\n",
    "type(a)"
   ]
  },
  {
   "cell_type": "code",
   "execution_count": 51,
   "id": "df72337b-d663-4e17-a432-549a0fa4b50e",
   "metadata": {},
   "outputs": [
    {
     "name": "stdout",
     "output_type": "stream",
     "text": [
      "False\n"
     ]
    },
    {
     "data": {
      "text/plain": [
       "bool"
      ]
     },
     "execution_count": 51,
     "metadata": {},
     "output_type": "execute_result"
    }
   ],
   "source": [
    "b = False\n",
    "print(b)\n",
    "type(b)"
   ]
  },
  {
   "cell_type": "code",
   "execution_count": 56,
   "id": "d4f39fb8-bce8-44db-af69-586b843b8ea1",
   "metadata": {},
   "outputs": [
    {
     "name": "stdout",
     "output_type": "stream",
     "text": [
      "False\n",
      "True\n"
     ]
    },
    {
     "data": {
      "text/plain": [
       "bool"
      ]
     },
     "execution_count": 56,
     "metadata": {},
     "output_type": "execute_result"
    }
   ],
   "source": [
    "a = 7 < 3\n",
    "print(a)\n",
    "b = 10>7\n",
    "print(b)\n",
    "type(b)"
   ]
  },
  {
   "cell_type": "markdown",
   "id": "1a15f892-c785-47b8-b0f7-6b9d91954b39",
   "metadata": {},
   "source": [
    "#### 5) String Datatype"
   ]
  },
  {
   "cell_type": "code",
   "execution_count": 57,
   "id": "979c1488-4f40-42c5-a739-817ede8c987d",
   "metadata": {},
   "outputs": [
    {
     "name": "stdout",
     "output_type": "stream",
     "text": [
      "Machine Learning\n"
     ]
    }
   ],
   "source": [
    "print(\"Machine Learning\")"
   ]
  },
  {
   "cell_type": "code",
   "execution_count": 58,
   "id": "d8675ea1-3ecc-499b-b866-4e6940c6cf76",
   "metadata": {},
   "outputs": [
    {
     "name": "stdout",
     "output_type": "stream",
     "text": [
      "Machine Learning\n"
     ]
    }
   ],
   "source": [
    "print('Machine Learning')"
   ]
  },
  {
   "cell_type": "code",
   "execution_count": 59,
   "id": "68b70d01-811c-4ddc-abbe-db56a5ba68b3",
   "metadata": {},
   "outputs": [
    {
     "name": "stdout",
     "output_type": "stream",
     "text": [
      "Machine Learning\n"
     ]
    },
    {
     "data": {
      "text/plain": [
       "str"
      ]
     },
     "execution_count": 59,
     "metadata": {},
     "output_type": "execute_result"
    }
   ],
   "source": [
    "my_string = \"Machine Learning\"\n",
    "print(my_string)\n",
    "type(my_string)"
   ]
  },
  {
   "cell_type": "code",
   "execution_count": 61,
   "id": "ab5d1f16-6fe1-4545-a345-ed8472594c1a",
   "metadata": {},
   "outputs": [
    {
     "name": "stdout",
     "output_type": "stream",
     "text": [
      "HelloHelloHelloHelloHello\n"
     ]
    }
   ],
   "source": [
    "print(\"Hello\" * 5)"
   ]
  },
  {
   "cell_type": "markdown",
   "id": "3db60d7e-451d-42b7-a565-e79832c568ae",
   "metadata": {},
   "source": [
    "##### Slicing of Strings"
   ]
  },
  {
   "cell_type": "code",
   "execution_count": 62,
   "id": "dcc4b4c3-e508-4253-be62-79c2a0dd87a3",
   "metadata": {},
   "outputs": [],
   "source": [
    "my_string = \"Programming\""
   ]
  },
  {
   "cell_type": "code",
   "execution_count": 65,
   "id": "603a1166-8c4e-425a-ab76-5a048b078e8a",
   "metadata": {},
   "outputs": [
    {
     "name": "stdout",
     "output_type": "stream",
     "text": [
      "rogr\n"
     ]
    }
   ],
   "source": [
    "print(my_string[1:5]) # Remember index starts with 0 #The Second index is excluded"
   ]
  },
  {
   "cell_type": "code",
   "execution_count": 67,
   "id": "4f20319b-7d7f-42aa-9739-a5fea87ff09b",
   "metadata": {},
   "outputs": [
    {
     "name": "stdout",
     "output_type": "stream",
     "text": [
      "Pormi\n"
     ]
    }
   ],
   "source": [
    " # Step means it will print other letter after the step [Start of String : End of String: Step size]\n",
    "print(my_string[0:10:2]) "
   ]
  },
  {
   "cell_type": "markdown",
   "id": "1c5fd77f-4360-4bd2-949f-7ad28664327b",
   "metadata": {},
   "source": [
    "##### String Concatenation"
   ]
  },
  {
   "cell_type": "code",
   "execution_count": 68,
   "id": "1f47b437-559f-48d3-a040-8402eb8371da",
   "metadata": {},
   "outputs": [
    {
     "name": "stdout",
     "output_type": "stream",
     "text": [
      "Machinelearning\n"
     ]
    }
   ],
   "source": [
    "word1 = 'Machine'\n",
    "word2 = 'learning'\n",
    "print(word1+word2)"
   ]
  },
  {
   "cell_type": "markdown",
   "id": "5e0ae16f-ab1d-404a-b2d4-555c99848c0f",
   "metadata": {
    "jp-MarkdownHeadingCollapsed": true
   },
   "source": [
    "## Module 2.3: Special Data types in Python - List, Tuples, Dictionaries, Sets"
   ]
  },
  {
   "cell_type": "markdown",
   "id": "d31c52eb-179a-4935-8931-489be59150a2",
   "metadata": {},
   "source": [
    "##### Types of Objects in Python\n",
    "1. Immutable Objects\n",
    "2. Mutable Objects\n"
   ]
  },
  {
   "cell_type": "markdown",
   "id": "b106ddb1-11b0-4c6b-9d8f-fba1d21ca98a",
   "metadata": {},
   "source": [
    "##### 1. Immutable Objects\n",
    "Immutable Objects are the objects who's values cannot be changed once they are created. Immutable objects contains:\n",
    "- Integer\n",
    "- float\n",
    "- String\n",
    "- Boolean\n",
    "- **Tuple**"
   ]
  },
  {
   "cell_type": "markdown",
   "id": "fb52a632-5fa4-4870-95a4-e4c399b3686a",
   "metadata": {},
   "source": [
    "##### 2. Mutable Objects\n",
    "Mutable Objects are the objects who's values can be changed once they are create. Mutable object consists of:\n",
    "- **List**\n",
    "- **Set**\n",
    "- **Dictionary**"
   ]
  },
  {
   "cell_type": "markdown",
   "id": "56be03e0-ef40-40c4-b0a6-3c908d2fa0e4",
   "metadata": {},
   "source": [
    "### Lists"
   ]
  },
  {
   "cell_type": "code",
   "execution_count": 70,
   "id": "3f3e3741-5a89-431e-83d6-cc34abb8090a",
   "metadata": {},
   "outputs": [
    {
     "name": "stdout",
     "output_type": "stream",
     "text": [
      "[1, 2, 3, 4, 5]\n"
     ]
    },
    {
     "data": {
      "text/plain": [
       "list"
      ]
     },
     "execution_count": 70,
     "metadata": {},
     "output_type": "execute_result"
    }
   ],
   "source": [
    "# List should be included in square brackets []\n",
    "# List are like arrays in C and Java. They can store multiple values.\n",
    "my_list = [1,2,3,4,5]\n",
    "print(my_list)\n",
    "type(my_list)"
   ]
  },
  {
   "cell_type": "code",
   "execution_count": 71,
   "id": "b36ee4b4-fc81-409d-98f9-c6cb237f0184",
   "metadata": {},
   "outputs": [
    {
     "name": "stdout",
     "output_type": "stream",
     "text": [
      "[2, 3, 1.8, 'English', True]\n"
     ]
    }
   ],
   "source": [
    "# List can store multiple datatypes. Unlike arrays it can store integer, String, Complex, boolean etc.\n",
    "my_list = [2,3,1.8,'English',True]\n",
    "print(my_list)\n"
   ]
  },
  {
   "cell_type": "markdown",
   "id": "b5cc77f5-c48d-40dd-a066-659773546288",
   "metadata": {},
   "source": [
    "##### Lists are Mutable (Changable)"
   ]
  },
  {
   "cell_type": "code",
   "execution_count": 73,
   "id": "38c6d1f9-be4b-4f3b-87cd-cbe3dc86978e",
   "metadata": {},
   "outputs": [
    {
     "name": "stdout",
     "output_type": "stream",
     "text": [
      "[2, 3, 1.8, 'English', True, 6]\n"
     ]
    }
   ],
   "source": [
    "# Adding elements to a list by append keyword\n",
    "my_list = [2,3,1.8,'English', True]\n",
    "my_list.append(6)\n",
    "print(my_list)"
   ]
  },
  {
   "cell_type": "code",
   "execution_count": 75,
   "id": "5da94c78-dc94-44c4-992d-b8c2bc144630",
   "metadata": {},
   "outputs": [
    {
     "name": "stdout",
     "output_type": "stream",
     "text": [
      "2\n",
      "3\n"
     ]
    }
   ],
   "source": [
    "# Print elements of the list using their index\n",
    "print(my_list[0])\n",
    "print(my_list[1])"
   ]
  },
  {
   "cell_type": "code",
   "execution_count": 76,
   "id": "7b8aa9d6-6c0d-4d34-9e75-e2b295f72ba2",
   "metadata": {},
   "outputs": [
    {
     "name": "stdout",
     "output_type": "stream",
     "text": [
      "[1, 2, 3, 4, 5, 1, 2, 3]\n"
     ]
    }
   ],
   "source": [
    "# List allows duplicate values unlike sets.\n",
    "list1 = [1,2,3,4,5,1,2,3]\n",
    "print(list1)"
   ]
  },
  {
   "cell_type": "code",
   "execution_count": 77,
   "id": "cd2f9138-6806-43fc-9cc9-f45eced5804a",
   "metadata": {},
   "outputs": [
    {
     "name": "stdout",
     "output_type": "stream",
     "text": [
      "8\n"
     ]
    }
   ],
   "source": [
    "# Check the size of the list using length function (len)\n",
    "print(len(list1))"
   ]
  },
  {
   "cell_type": "code",
   "execution_count": 78,
   "id": "d4560884-76f4-4a2a-8c77-c98dab1a958d",
   "metadata": {},
   "outputs": [
    {
     "name": "stdout",
     "output_type": "stream",
     "text": [
      "[]\n"
     ]
    }
   ],
   "source": [
    "#Initiating an empty list\n",
    "list2 = []\n",
    "print(list2)"
   ]
  },
  {
   "cell_type": "code",
   "execution_count": 79,
   "id": "0b854cf6-56ba-4523-a45e-34b1930daac4",
   "metadata": {},
   "outputs": [],
   "source": [
    "list2.append(5)"
   ]
  },
  {
   "cell_type": "code",
   "execution_count": 80,
   "id": "a6a8c252-0a39-4a67-8161-7dd402fac372",
   "metadata": {},
   "outputs": [
    {
     "name": "stdout",
     "output_type": "stream",
     "text": [
      "[5]\n"
     ]
    }
   ],
   "source": [
    "print(list2)"
   ]
  },
  {
   "cell_type": "code",
   "execution_count": 84,
   "id": "09787c1d-efc1-4332-a847-385a6a0c4569",
   "metadata": {},
   "outputs": [
    {
     "name": "stdout",
     "output_type": "stream",
     "text": [
      "[2, 3, 'English', True, 6]\n"
     ]
    }
   ],
   "source": [
    "# Delete the item in a list \n",
    "list2 = [2, 3, 1.8, 'English', True, 6]\n",
    "del list2[2]\n",
    "print(list2)"
   ]
  },
  {
   "cell_type": "code",
   "execution_count": 85,
   "id": "bfd97d2e-2cbf-4b28-9285-50ec1aa8762f",
   "metadata": {},
   "outputs": [
    {
     "name": "stdout",
     "output_type": "stream",
     "text": [
      "[1, 2, 3, 4, 5, 6, 7, 8, 9, 10]\n"
     ]
    }
   ],
   "source": [
    "# Join Two lists\n",
    "list1 = [1,2,3,4,5]\n",
    "list2 = [6,7,8,9,10]\n",
    "\n",
    "list3 = list1+list2\n",
    "print(list3)"
   ]
  },
  {
   "cell_type": "markdown",
   "id": "2e5faff0-fbde-49fb-8708-437a14aaa5e2",
   "metadata": {},
   "source": [
    "### Tuples"
   ]
  },
  {
   "cell_type": "code",
   "execution_count": 87,
   "id": "4cc481f4-bddf-4246-a59f-7dcd8a207f41",
   "metadata": {},
   "outputs": [
    {
     "name": "stdout",
     "output_type": "stream",
     "text": [
      "(2, 3, 4, 5)\n"
     ]
    },
    {
     "data": {
      "text/plain": [
       "tuple"
      ]
     },
     "execution_count": 87,
     "metadata": {},
     "output_type": "execute_result"
    }
   ],
   "source": [
    "# Tuples are similar as lists, except they are immutable or unchangable\n",
    "tuple1 = (2,3,4,5)\n",
    "print(tuple1)\n",
    "type(tuple1)"
   ]
  },
  {
   "cell_type": "code",
   "execution_count": 88,
   "id": "080fd907-ee01-45e4-9d64-27032aa3f805",
   "metadata": {},
   "outputs": [
    {
     "name": "stdout",
     "output_type": "stream",
     "text": [
      "(1, 2, 3.5, 'Machine Learning', False)\n"
     ]
    },
    {
     "data": {
      "text/plain": [
       "tuple"
      ]
     },
     "execution_count": 88,
     "metadata": {},
     "output_type": "execute_result"
    }
   ],
   "source": [
    "# Tuples also allow multiple datatypes in itself \n",
    "tuple2 = (1,2,3.5,'Machine Learning', False)\n",
    "print(tuple2)\n",
    "type(tuple2)"
   ]
  },
  {
   "cell_type": "markdown",
   "id": "c57f3493-53b6-4dce-a559-bc095c4282e5",
   "metadata": {},
   "source": [
    "#### Converting a List into a Tuple"
   ]
  },
  {
   "cell_type": "code",
   "execution_count": 92,
   "id": "7ec8d1bf-b2fc-4e4c-b2a8-0fa7289c23c0",
   "metadata": {},
   "outputs": [
    {
     "name": "stdout",
     "output_type": "stream",
     "text": [
      "[3, 4, 5, 6]\n",
      "(3, 4, 5, 6)\n"
     ]
    }
   ],
   "source": [
    "my_list = [3,4,5,6]\n",
    "print(my_list)\n",
    "\n",
    "my_tuple = tuple(my_list) #Use type-casting \n",
    "print(my_tuple)"
   ]
  },
  {
   "cell_type": "code",
   "execution_count": 93,
   "id": "3a4f76d7-3f82-4f4a-b454-ee6a56e8ce97",
   "metadata": {},
   "outputs": [
    {
     "name": "stdout",
     "output_type": "stream",
     "text": [
      "3\n",
      "4\n"
     ]
    }
   ],
   "source": [
    "print(my_tuple[0])\n",
    "print(my_tuple[1])"
   ]
  },
  {
   "cell_type": "markdown",
   "id": "e1d606fa-4f2e-4880-9e26-848394bc24bf",
   "metadata": {},
   "source": [
    "##### Tuples are immutable that means that the elements in the Tuples cannnot be changed"
   ]
  },
  {
   "cell_type": "code",
   "execution_count": 94,
   "id": "99e4acb7-0c15-4c07-88bb-83c5db0f4712",
   "metadata": {},
   "outputs": [
    {
     "ename": "AttributeError",
     "evalue": "'tuple' object has no attribute 'append'",
     "output_type": "error",
     "traceback": [
      "\u001b[1;31m---------------------------------------------------------------------------\u001b[0m",
      "\u001b[1;31mAttributeError\u001b[0m                            Traceback (most recent call last)",
      "Cell \u001b[1;32mIn[94], line 1\u001b[0m\n\u001b[1;32m----> 1\u001b[0m my_tuple\u001b[38;5;241m.\u001b[39mappend(\u001b[38;5;241m6\u001b[39m)\n",
      "\u001b[1;31mAttributeError\u001b[0m: 'tuple' object has no attribute 'append'"
     ]
    }
   ],
   "source": [
    "my_tuple.append(6)"
   ]
  },
  {
   "cell_type": "code",
   "execution_count": 95,
   "id": "932ff61f-a75b-44c6-9080-7a21da939b7b",
   "metadata": {},
   "outputs": [
    {
     "name": "stdout",
     "output_type": "stream",
     "text": [
      "4\n"
     ]
    }
   ],
   "source": [
    "print(len(my_tuple))"
   ]
  },
  {
   "cell_type": "markdown",
   "id": "65ca408b-4984-4359-99c4-620e185f3dd0",
   "metadata": {},
   "source": [
    "### Set"
   ]
  },
  {
   "cell_type": "code",
   "execution_count": 98,
   "id": "2c888c3a-0ac2-44fb-b225-352a1f3300a6",
   "metadata": {},
   "outputs": [
    {
     "name": "stdout",
     "output_type": "stream",
     "text": [
      "{1, 2, 3, 4, 5}\n"
     ]
    },
    {
     "data": {
      "text/plain": [
       "set"
      ]
     },
     "execution_count": 98,
     "metadata": {},
     "output_type": "execute_result"
    }
   ],
   "source": [
    "# Set should be enclosed in Curly braces {}\n",
    "my_set = {1,2,3,4,5}\n",
    "print(my_set)\n",
    "type(my_set)"
   ]
  },
  {
   "cell_type": "code",
   "execution_count": 99,
   "id": "1ec10bef-7ab4-406e-bdd6-e0d0b8c1edda",
   "metadata": {},
   "outputs": [
    {
     "ename": "TypeError",
     "evalue": "'set' object is not subscriptable",
     "output_type": "error",
     "traceback": [
      "\u001b[1;31m---------------------------------------------------------------------------\u001b[0m",
      "\u001b[1;31mTypeError\u001b[0m                                 Traceback (most recent call last)",
      "Cell \u001b[1;32mIn[99], line 1\u001b[0m\n\u001b[1;32m----> 1\u001b[0m \u001b[38;5;28mprint\u001b[39m(my_set[\u001b[38;5;241m0\u001b[39m])\n",
      "\u001b[1;31mTypeError\u001b[0m: 'set' object is not subscriptable"
     ]
    }
   ],
   "source": [
    "print(my_set[0]) #Set Doesnot contain Indexing."
   ]
  },
  {
   "cell_type": "markdown",
   "id": "ec97653e-8175-4001-bc14-e07dfa077934",
   "metadata": {},
   "source": [
    "##### Converting List to a Set"
   ]
  },
  {
   "cell_type": "code",
   "execution_count": 100,
   "id": "c12bda04-401a-49de-81bf-eefdf9c87bb4",
   "metadata": {},
   "outputs": [
    {
     "name": "stdout",
     "output_type": "stream",
     "text": [
      "{1, 2, 3, 4, 5}\n"
     ]
    }
   ],
   "source": [
    "list1 = [1,2,3,4,5]\n",
    "set1 = set(list1)\n",
    "print(set1)"
   ]
  },
  {
   "cell_type": "code",
   "execution_count": 101,
   "id": "c0bc326a-1184-4aa7-9e88-bdcd79187762",
   "metadata": {},
   "outputs": [
    {
     "data": {
      "text/plain": [
       "set"
      ]
     },
     "execution_count": 101,
     "metadata": {},
     "output_type": "execute_result"
    }
   ],
   "source": [
    "type(set1)"
   ]
  },
  {
   "cell_type": "code",
   "execution_count": 102,
   "id": "3dfc32f5-ec1c-48d1-873d-526ec7983347",
   "metadata": {},
   "outputs": [
    {
     "name": "stdout",
     "output_type": "stream",
     "text": [
      "{1, 2, 3, 4, 5}\n"
     ]
    }
   ],
   "source": [
    "# Set doesnot allow Duplicate Values like Tuple and List\n",
    "list2 = [1,1,2,2,3,3,4,4,5,5]\n",
    "set2 = set(list2)\n",
    "print(set2)"
   ]
  },
  {
   "cell_type": "markdown",
   "id": "e5f8ec57-d09c-48a3-bd73-50dd5f7e04a7",
   "metadata": {},
   "source": [
    "### Dictionary"
   ]
  },
  {
   "cell_type": "code",
   "execution_count": 103,
   "id": "479e4f79-6f1d-46b9-aab2-a6f2b1c68903",
   "metadata": {},
   "outputs": [
    {
     "name": "stdout",
     "output_type": "stream",
     "text": [
      "{'name': 'David', 'age': 30, 'country': 'India'}\n"
     ]
    },
    {
     "data": {
      "text/plain": [
       "dict"
      ]
     },
     "execution_count": 103,
     "metadata": {},
     "output_type": "execute_result"
    }
   ],
   "source": [
    "# Dictionary contains key-value pairs\n",
    "my_dictionary = {'name' : 'David', 'age' : 30, 'country' : 'India'}\n",
    "print(my_dictionary)\n",
    "type(my_dictionary)"
   ]
  },
  {
   "cell_type": "code",
   "execution_count": 104,
   "id": "4f7ab9ed-60f8-4729-8ff4-059b285c9e5d",
   "metadata": {},
   "outputs": [
    {
     "name": "stdout",
     "output_type": "stream",
     "text": [
      "David\n",
      "30\n",
      "India\n"
     ]
    }
   ],
   "source": [
    "print(my_dictionary['name'])\n",
    "print(my_dictionary['age'])\n",
    "print(my_dictionary['country'])"
   ]
  },
  {
   "cell_type": "code",
   "execution_count": 105,
   "id": "827838f2-4517-444f-ae68-0b4bb5323b30",
   "metadata": {},
   "outputs": [
    {
     "name": "stdout",
     "output_type": "stream",
     "text": [
      "{'name': 'David', 'age': 30, 'country': 'India'}\n"
     ]
    }
   ],
   "source": [
    "# Dictionaries doesnot allow Duplicate Values\n",
    "dictionary2 = {'name' : 'David', 'age' : 30, 'country' : 'India', 'name' : 'David', 'age' : 30, 'country' : 'India'}\n",
    "print(dictionary2)"
   ]
  },
  {
   "cell_type": "code",
   "execution_count": 107,
   "id": "39f29cdb-de28-40f5-badf-5a85780b3c2b",
   "metadata": {},
   "outputs": [],
   "source": [
    "# Also See how to Mutate A Dictionry, List and Tuple. How to append and delete the values from Dictionary. How to Splice these datatypes"
   ]
  },
  {
   "cell_type": "markdown",
   "id": "3e55b870-c066-4b9d-955e-2eb4be0310d9",
   "metadata": {
    "jp-MarkdownHeadingCollapsed": true
   },
   "source": [
    "## Module 2.5: Operators in Python"
   ]
  },
  {
   "cell_type": "markdown",
   "id": "5821be2e-16ca-4522-89a4-65af2409da5b",
   "metadata": {},
   "source": [
    "#### Operators in Python\n",
    "There are 6 types of Operators in Python:\n",
    "- Arithmetic Operators\n",
    "- Assignment Operators\n",
    "- Comparision Operators\n",
    "- Logical Operators\n",
    "- Identity Operators\n",
    "- Membership Operators"
   ]
  },
  {
   "cell_type": "markdown",
   "id": "9e7c1db9-120f-45a5-9b60-aff633b95df0",
   "metadata": {
    "jp-MarkdownHeadingCollapsed": true
   },
   "source": [
    "##### 1) Arithmetic Operators"
   ]
  },
  {
   "cell_type": "code",
   "execution_count": 6,
   "id": "96c6f0eb-ecd0-47ef-8fa1-b26f8d65e737",
   "metadata": {},
   "outputs": [
    {
     "name": "stdout",
     "output_type": "stream",
     "text": [
      "sum =  30\n",
      "difference =  10\n",
      "product =  200\n",
      "Division =  2.0\n",
      "Modulus =  0\n",
      "Exponent =  10240000000000\n"
     ]
    }
   ],
   "source": [
    "num_1 = 20\n",
    "num_2 = 10\n",
    "\n",
    "# Addition operator\n",
    "sum = num_1 + num_2\n",
    "print('sum = ', sum)\n",
    "\n",
    "# Difference Operator\n",
    "diff = num_1 - num_2\n",
    "print('difference = ', diff) # Prints the Quotient (Answer)\n",
    "\n",
    "# Multiplication Operator\n",
    "mult = num_1 * num_2\n",
    "print('product = ', mult)\n",
    "\n",
    "# Division Operator\n",
    "div = num_1 / num_2\n",
    "print('Division = ',div)\n",
    "\n",
    "# Modulus Operator\n",
    "mod = num_1 % num_2\n",
    "print('Modulus = ', mod) # Print the Remainder\n",
    "\n",
    "# Exponent Operator\n",
    "exp = num_1 ** num_2\n",
    "print('Exponent = ',exp)"
   ]
  },
  {
   "cell_type": "markdown",
   "id": "86d2d483-22c0-494c-80d1-82dce31f104c",
   "metadata": {
    "jp-MarkdownHeadingCollapsed": true
   },
   "source": [
    "##### 2) Assignemnt Operators"
   ]
  },
  {
   "cell_type": "code",
   "execution_count": 7,
   "id": "07d4d011-fc6d-4df5-a2e4-8141894da334",
   "metadata": {},
   "outputs": [
    {
     "name": "stdout",
     "output_type": "stream",
     "text": [
      "5\n"
     ]
    }
   ],
   "source": [
    "a = 5 # = assigns value 5 to a\n",
    "print(a)"
   ]
  },
  {
   "cell_type": "code",
   "execution_count": 9,
   "id": "cd167c3b-9df8-4eb2-84da-b40ff2b58e9e",
   "metadata": {},
   "outputs": [
    {
     "name": "stdout",
     "output_type": "stream",
     "text": [
      "10\n"
     ]
    }
   ],
   "source": [
    "a = 5\n",
    "a += 5 #a = a + 5\n",
    "print(a)"
   ]
  },
  {
   "cell_type": "code",
   "execution_count": 10,
   "id": "0c51d648-92e7-42a0-92d6-1102af71ca76",
   "metadata": {},
   "outputs": [
    {
     "name": "stdout",
     "output_type": "stream",
     "text": [
      "3\n"
     ]
    }
   ],
   "source": [
    "b = 5\n",
    "b -= 2 # b = b-2\n",
    "print(b)"
   ]
  },
  {
   "cell_type": "code",
   "execution_count": 11,
   "id": "47d76612-a731-4ef6-914a-01ee14c70ffc",
   "metadata": {},
   "outputs": [
    {
     "name": "stdout",
     "output_type": "stream",
     "text": [
      "20\n"
     ]
    }
   ],
   "source": [
    "c = 10\n",
    "c *= 2\n",
    "print(c)"
   ]
  },
  {
   "cell_type": "markdown",
   "id": "cb71c325-71ca-47f3-9819-4d95ef2181e7",
   "metadata": {
    "jp-MarkdownHeadingCollapsed": true
   },
   "source": [
    "##### 3) Comparision Operators"
   ]
  },
  {
   "cell_type": "code",
   "execution_count": 16,
   "id": "de5c9cd8-c350-4f32-9d2a-907ab24fe08b",
   "metadata": {},
   "outputs": [
    {
     "name": "stdout",
     "output_type": "stream",
     "text": [
      "False\n",
      "True\n",
      "False\n",
      "True\n",
      "True\n",
      "True\n"
     ]
    }
   ],
   "source": [
    "a = 5 \n",
    "b = 10\n",
    "\n",
    "print(a==b)\n",
    "print(a!=b)\n",
    "print(a>b)\n",
    "print(a<b)\n",
    "print(a<=b)\n",
    "print(b>=a)"
   ]
  },
  {
   "cell_type": "markdown",
   "id": "eebb75e8-6baa-4b13-960c-2a7ca130cf7f",
   "metadata": {
    "jp-MarkdownHeadingCollapsed": true
   },
   "source": [
    "##### 4) Logical Operators"
   ]
  },
  {
   "cell_type": "code",
   "execution_count": 19,
   "id": "7373d8da-2d8a-4cb2-af7a-e66563998f2f",
   "metadata": {},
   "outputs": [
    {
     "name": "stdout",
     "output_type": "stream",
     "text": [
      "False\n",
      "True\n",
      "False\n"
     ]
    }
   ],
   "source": [
    "# There are many logical operators but mainly we use and, or and not\n",
    "a = 10\n",
    "print(a>20 and a>5) # Give true if both are true\n",
    "print(a>20 or a>5) # Give true if either is true\n",
    "print(not(a>8 and a>5)) # Inverts the Output from true to false and vice versa"
   ]
  },
  {
   "cell_type": "markdown",
   "id": "539be771-1dc0-4aa0-b1f4-7f3a0df1e913",
   "metadata": {
    "jp-MarkdownHeadingCollapsed": true
   },
   "source": [
    "##### 5) Identity Operators"
   ]
  },
  {
   "cell_type": "code",
   "execution_count": 22,
   "id": "382aff37-5df8-4157-8acf-379fafcdd417",
   "metadata": {},
   "outputs": [
    {
     "name": "stdout",
     "output_type": "stream",
     "text": [
      "False\n",
      "True\n"
     ]
    }
   ],
   "source": [
    "# Identity Operators are 'is' and 'is not' gives a boolean output\n",
    "x = 5\n",
    "y = 6\n",
    "\n",
    "print(x is y)\n",
    "print(x is not y)"
   ]
  },
  {
   "cell_type": "markdown",
   "id": "fc6cbfb6-6d9f-472f-beb0-43958b74ce51",
   "metadata": {
    "jp-MarkdownHeadingCollapsed": true
   },
   "source": [
    "##### 6) Membership Operators"
   ]
  },
  {
   "cell_type": "code",
   "execution_count": 24,
   "id": "dfd445f7-9895-4bfd-89d0-143b40b9269a",
   "metadata": {},
   "outputs": [
    {
     "name": "stdout",
     "output_type": "stream",
     "text": [
      "True\n",
      "False\n"
     ]
    }
   ],
   "source": [
    "# there are two memebership operators 'in' and 'not in'\n",
    "\n",
    "a = 5\n",
    "b = 10\n",
    "c = [1,2,3,4,5]\n",
    "\n",
    "print(a in c)\n",
    "print (b in c)"
   ]
  },
  {
   "cell_type": "code",
   "execution_count": 25,
   "id": "b6925eaa-daea-46cc-a3c2-56f656ec326e",
   "metadata": {},
   "outputs": [
    {
     "name": "stdout",
     "output_type": "stream",
     "text": [
      "False\n",
      "True\n"
     ]
    }
   ],
   "source": [
    "a = 5\n",
    "b = 10\n",
    "c = [1,2,3,4,5]\n",
    "\n",
    "print(a not in c)\n",
    "print (b not in c)"
   ]
  },
  {
   "cell_type": "markdown",
   "id": "c6378723-607c-48d1-acc5-d135836f848c",
   "metadata": {
    "jp-MarkdownHeadingCollapsed": true
   },
   "source": [
    "## Module 2.6: If else Statements"
   ]
  },
  {
   "cell_type": "code",
   "execution_count": 27,
   "id": "5b215322-e1ac-48fe-8253-6612f116592f",
   "metadata": {},
   "outputs": [
    {
     "name": "stdout",
     "output_type": "stream",
     "text": [
      "b is the greatest number\n"
     ]
    }
   ],
   "source": [
    "# Simple if else statement\n",
    "\n",
    "a = 30\n",
    "b = 50\n",
    "\n",
    "if (a > b):\n",
    "    print ('a is the greatest number')\n",
    "else:\n",
    "    print('b is the greatest number')"
   ]
  },
  {
   "cell_type": "code",
   "execution_count": 29,
   "id": "45d1e136-b118-4a55-a6fd-58a5885b04af",
   "metadata": {},
   "outputs": [
    {
     "name": "stdin",
     "output_type": "stream",
     "text": [
      "Enter the first number:  10\n",
      "Enter the second number:  20\n"
     ]
    },
    {
     "name": "stdout",
     "output_type": "stream",
     "text": [
      "Second number is greater than first number\n"
     ]
    }
   ],
   "source": [
    "a = int(input('Enter the first number: '))\n",
    "b = int(input('Enter the second number: '))\n",
    "\n",
    "if (a > b):\n",
    "    print('First number is greater than second number')\n",
    "else:\n",
    "    print('Second number is greater than first number')"
   ]
  },
  {
   "cell_type": "code",
   "execution_count": 32,
   "id": "a7c15bc7-2f2a-4428-9552-771b9f8004d0",
   "metadata": {},
   "outputs": [
    {
     "name": "stdin",
     "output_type": "stream",
     "text": [
      "Enter the first number:  10\n",
      "Enter the second number:  20\n",
      "Enter the third number:  15\n"
     ]
    },
    {
     "name": "stdout",
     "output_type": "stream",
     "text": [
      "Second Number is Greatest\n"
     ]
    }
   ],
   "source": [
    "# If elif and else Statement\n",
    "a = int(input('Enter the first number: '))\n",
    "b = int(input('Enter the second number: '))\n",
    "c = int(input('Enter the third number: '))\n",
    "\n",
    "if (a>b and a>c):\n",
    "    print('First Number is Greatest')\n",
    "elif(b>a and b>c):\n",
    "    print('Second Number is Greatest')\n",
    "else:\n",
    "    print('Third Number is Greatest')"
   ]
  },
  {
   "cell_type": "code",
   "execution_count": 36,
   "id": "79c18333-6df2-4bb5-91b8-495a624538e9",
   "metadata": {},
   "outputs": [
    {
     "name": "stdout",
     "output_type": "stream",
     "text": [
      "c is the greatest\n"
     ]
    }
   ],
   "source": [
    "# Nested If Statement\n",
    "a = 20\n",
    "b = 40\n",
    "c = 60\n",
    "\n",
    "if (a>b):\n",
    "    if (a>c):\n",
    "        print('a is the greatest')\n",
    "    else:\n",
    "        print('c is the greatest')\n",
    "\n",
    "else:\n",
    "    if (b>c):\n",
    "        print('b is the greatest')\n",
    "    else:\n",
    "        print('c is the greatest')"
   ]
  },
  {
   "cell_type": "markdown",
   "id": "45bc3146-ba62-49c3-adcd-2bd604d561fe",
   "metadata": {
    "jp-MarkdownHeadingCollapsed": true
   },
   "source": [
    "## Module 2.7: Loops in Python"
   ]
  },
  {
   "cell_type": "markdown",
   "id": "e47be641-4c60-4152-a5bc-0b4f1a6679c8",
   "metadata": {
    "jp-MarkdownHeadingCollapsed": true
   },
   "source": [
    "#### For Loop"
   ]
  },
  {
   "cell_type": "code",
   "execution_count": 39,
   "id": "e97daaca-1e78-4a94-92b3-8ee48e801e59",
   "metadata": {},
   "outputs": [
    {
     "name": "stdin",
     "output_type": "stream",
     "text": [
      "Enter the price of the laptop:  20000\n",
      "Enter the price of the laptop:  30000\n",
      "Enter the price of the laptop:  40000\n",
      "Enter the price of the laptop:  50000\n",
      "Enter the price of the laptop:  60000\n"
     ]
    }
   ],
   "source": [
    "laptop1 = int(input('Enter the price of the laptop: '))\n",
    "laptop2 = int(input('Enter the price of the laptop: '))\n",
    "laptop3 = int(input('Enter the price of the laptop: '))\n",
    "laptop4 = int(input('Enter the price of the laptop: '))\n",
    "laptop5 = int(input('Enter the price of the laptop: '))"
   ]
  },
  {
   "cell_type": "code",
   "execution_count": 41,
   "id": "2e547923-2a20-4e1b-9e26-18d70132628c",
   "metadata": {},
   "outputs": [
    {
     "name": "stdin",
     "output_type": "stream",
     "text": [
      "Enter the price of the laptop:  20000\n",
      "Enter the price of the laptop:  30000\n",
      "Enter the price of the laptop:  40000\n",
      "Enter the price of the laptop:  50000\n",
      "Enter the price of the laptop:  60000\n"
     ]
    }
   ],
   "source": [
    "# The above process is very tedious\n",
    "# Loops helps us to easy it\n",
    "\n",
    "for i in range(5):\n",
    "    laptop_price = int(input('Enter the price of the laptop: '))"
   ]
  },
  {
   "cell_type": "code",
   "execution_count": 44,
   "id": "f79e9602-a387-49e6-b535-42461af6a68e",
   "metadata": {},
   "outputs": [
    {
     "name": "stdout",
     "output_type": "stream",
     "text": [
      "50\n",
      "100\n",
      "150\n",
      "200\n"
     ]
    }
   ],
   "source": [
    "# Printing elements in the list one by one\n",
    "numbers = [50, 100, 150, 200]\n",
    "\n",
    "print(numbers[0])\n",
    "print(numbers[1])\n",
    "print(numbers[2])\n",
    "print(numbers[3])\n"
   ]
  },
  {
   "cell_type": "code",
   "execution_count": 46,
   "id": "fd8e4d3c-e6ac-49ce-b37d-ac5570b5b27f",
   "metadata": {},
   "outputs": [
    {
     "name": "stdout",
     "output_type": "stream",
     "text": [
      "50\n",
      "100\n",
      "150\n",
      "200\n"
     ]
    }
   ],
   "source": [
    "# Printing elements in the list one by one using FOR Loop\n",
    "numbers = [50, 100, 150, 200]\n",
    "\n",
    "for i in numbers:\n",
    "    print(i)"
   ]
  },
  {
   "cell_type": "markdown",
   "id": "239125b8-b9e9-40c6-8e59-76e0a81d3629",
   "metadata": {
    "jp-MarkdownHeadingCollapsed": true
   },
   "source": [
    "#### While Loop"
   ]
  },
  {
   "cell_type": "code",
   "execution_count": 47,
   "id": "d7225700-6758-4e08-bfca-b3ce54f19bbf",
   "metadata": {},
   "outputs": [
    {
     "name": "stdout",
     "output_type": "stream",
     "text": [
      "0\n",
      "1\n",
      "2\n",
      "3\n",
      "4\n",
      "5\n",
      "6\n",
      "7\n",
      "8\n",
      "9\n"
     ]
    }
   ],
   "source": [
    "# In for loop we know how many times the loop should run. In while loop we donot know how many times the loop runs.\n",
    "# This is useful when we donont know how big the list is.\n",
    "i = 0\n",
    "\n",
    "while (i<10):\n",
    "    print(i)\n",
    "    i+=1"
   ]
  },
  {
   "cell_type": "markdown",
   "id": "d20df990-4302-4612-b1a4-e3a76fb2c8e2",
   "metadata": {
    "jp-MarkdownHeadingCollapsed": true
   },
   "source": [
    "## Module 2.8: Functions in Python"
   ]
  },
  {
   "cell_type": "markdown",
   "id": "dc50d44e-9ad1-43c9-8333-592d65d97aa4",
   "metadata": {},
   "source": [
    "Function is a block of code that can be reused in a Program."
   ]
  },
  {
   "cell_type": "code",
   "execution_count": 51,
   "id": "2ccbef49-a99d-468a-9d8a-e74bbc0e702f",
   "metadata": {},
   "outputs": [
    {
     "name": "stdin",
     "output_type": "stream",
     "text": [
      "Enter a Number to find its factorial :  5\n"
     ]
    },
    {
     "name": "stdout",
     "output_type": "stream",
     "text": [
      "The factorial of the number is :  120\n"
     ]
    }
   ],
   "source": [
    "# Factorial of a Number normal Program\n",
    "number = int(input('Enter a Number to find its factorial : '))\n",
    "\n",
    "factorial = 1\n",
    "\n",
    "if number == 0:\n",
    "    print('The Factorial of 0 is : 1')\n",
    "\n",
    "else:\n",
    "    for i in range(1, number+1): # Range (1,6)\n",
    "        factorial = factorial*i  # 1*1 -> (1*1)*2 -> (1*1*2)*3 -> (1*1*2*3)*4 -> (1*1*2*3*4)*5\n",
    "    print('The factorial of the number is : ',factorial)"
   ]
  },
  {
   "cell_type": "code",
   "execution_count": 52,
   "id": "c863b451-e532-41fd-935b-2673bd27b882",
   "metadata": {},
   "outputs": [],
   "source": [
    "# making the normal program into a function:\n",
    "def factorial_value(number):\n",
    "    factorial = 1\n",
    "    if number == 0:\n",
    "        return factorial\n",
    "\n",
    "    else:\n",
    "        for i in range(1,number+1):\n",
    "            factorial = factorial*i\n",
    "        return factorial"
   ]
  },
  {
   "cell_type": "code",
   "execution_count": 53,
   "id": "567e8aa3-96ce-4c1c-9c30-b9d82fd12f2a",
   "metadata": {},
   "outputs": [
    {
     "data": {
      "text/plain": [
       "120"
      ]
     },
     "execution_count": 53,
     "metadata": {},
     "output_type": "execute_result"
    }
   ],
   "source": [
    "factorial_value(5)"
   ]
  },
  {
   "cell_type": "code",
   "execution_count": 54,
   "id": "471e8fdc-fb5b-40fb-8a3d-a2189e4d0260",
   "metadata": {},
   "outputs": [
    {
     "data": {
      "text/plain": [
       "3628800"
      ]
     },
     "execution_count": 54,
     "metadata": {},
     "output_type": "execute_result"
    }
   ],
   "source": [
    "factorial_value(10)"
   ]
  },
  {
   "cell_type": "code",
   "execution_count": 55,
   "id": "6eaeed59-2a9b-4d28-a871-6163200bf77c",
   "metadata": {},
   "outputs": [
    {
     "data": {
      "text/plain": [
       "6689502913449127057588118054090372586752746333138029810295671352301633557244962989366874165271984981308157637893214090552534408589408121859898481114389650005964960521256960000000000000000000000000000"
      ]
     },
     "execution_count": 55,
     "metadata": {},
     "output_type": "execute_result"
    }
   ],
   "source": [
    "factorial_value(120)"
   ]
  },
  {
   "cell_type": "code",
   "execution_count": null,
   "id": "4a8bc92d-be66-4c85-aa7d-df1570d85cba",
   "metadata": {},
   "outputs": [],
   "source": []
  }
 ],
 "metadata": {
  "kernelspec": {
   "display_name": "Python 3 (ipykernel)",
   "language": "python",
   "name": "python3"
  },
  "language_info": {
   "codemirror_mode": {
    "name": "ipython",
    "version": 3
   },
   "file_extension": ".py",
   "mimetype": "text/x-python",
   "name": "python",
   "nbconvert_exporter": "python",
   "pygments_lexer": "ipython3",
   "version": "3.12.7"
  }
 },
 "nbformat": 4,
 "nbformat_minor": 5
}
