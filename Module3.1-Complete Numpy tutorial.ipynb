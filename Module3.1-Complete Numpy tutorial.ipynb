{
 "cells": [
  {
   "cell_type": "markdown",
   "id": "661e65fa-426d-40a7-a021-21dfcf067f1f",
   "metadata": {},
   "source": [
    "## Module 3.1 : Numpy - Numerical Python"
   ]
  },
  {
   "cell_type": "markdown",
   "id": "d948e352-c0b7-4bf4-ba7e-878f20739ee3",
   "metadata": {},
   "source": [
    "##### Advantages of Numpy Array.\n",
    "- Allows several Mathematical operations\n",
    "- Faster operations"
   ]
  },
  {
   "cell_type": "code",
   "execution_count": 1,
   "id": "9011558a-6a7e-4eaa-84ca-bb1d411f5dd4",
   "metadata": {},
   "outputs": [],
   "source": [
    "import numpy as np"
   ]
  },
  {
   "cell_type": "markdown",
   "id": "8a1d9bb8-4a60-41e8-9397-412f1895abd9",
   "metadata": {},
   "source": [
    "#### List vs Numpy - Time Taken"
   ]
  },
  {
   "cell_type": "code",
   "execution_count": 2,
   "id": "8adcd371-b3ec-458d-a190-e03cf22c3280",
   "metadata": {},
   "outputs": [],
   "source": [
    "from time import process_time"
   ]
  },
  {
   "cell_type": "markdown",
   "id": "4d1cecfd-6740-4e76-9ffb-d554810cd4be",
   "metadata": {},
   "source": [
    "##### Time taken by List:"
   ]
  },
  {
   "cell_type": "code",
   "execution_count": 7,
   "id": "09506ac0-2e9e-4ba2-b559-5c185d48267f",
   "metadata": {},
   "outputs": [
    {
     "name": "stdout",
     "output_type": "stream",
     "text": [
      "0.0003474000\n"
     ]
    }
   ],
   "source": [
    "from time import perf_counter\n",
    "\n",
    "python_list = [i for i in range(10000)]\n",
    "\n",
    "start_time = perf_counter()\n",
    "\n",
    "python_list = [i + 5 for i in python_list]\n",
    "\n",
    "end_time = perf_counter()\n",
    "\n",
    "time_taken = end_time - start_time\n",
    "\n",
    "n = 10\n",
    "print(f\"{time_taken:.{n}f}\")\n"
   ]
  },
  {
   "cell_type": "code",
   "execution_count": 8,
   "id": "d20339c1-4580-4ea5-bea1-959c3e8ea229",
   "metadata": {},
   "outputs": [
    {
     "name": "stdout",
     "output_type": "stream",
     "text": [
      "0.0001130000\n"
     ]
    }
   ],
   "source": [
    "np_array = np.array([i for i in range (10000)])\n",
    "start_time = perf_counter()\n",
    "np_array += 5\n",
    "end_time = perf_counter()\n",
    "time_taken = end_time - start_time\n",
    "n = 10\n",
    "print(f\"{time_taken:.{n}f}\")"
   ]
  },
  {
   "cell_type": "markdown",
   "id": "e330b4db-f431-4b92-b4b9-609cf8400b4f",
   "metadata": {},
   "source": [
    "### Numpy Arrays"
   ]
  },
  {
   "cell_type": "code",
   "execution_count": 10,
   "id": "737de69d-e5b0-44ac-8973-5348ea690e4b",
   "metadata": {},
   "outputs": [
    {
     "name": "stdout",
     "output_type": "stream",
     "text": [
      "[1, 2, 3, 4, 5]\n"
     ]
    },
    {
     "data": {
      "text/plain": [
       "list"
      ]
     },
     "execution_count": 10,
     "metadata": {},
     "output_type": "execute_result"
    }
   ],
   "source": [
    "# List\n",
    "list1 = [1,2,3,4,5]\n",
    "print(list1)\n",
    "type(list1)"
   ]
  },
  {
   "cell_type": "code",
   "execution_count": 11,
   "id": "2efc41f0-7c59-492b-9aab-b4ce35a2515d",
   "metadata": {},
   "outputs": [
    {
     "name": "stdout",
     "output_type": "stream",
     "text": [
      "[1 2 3 4 5]\n"
     ]
    },
    {
     "data": {
      "text/plain": [
       "numpy.ndarray"
      ]
     },
     "execution_count": 11,
     "metadata": {},
     "output_type": "execute_result"
    }
   ],
   "source": [
    "np_array = np.array([1,2,3,4,5])\n",
    "print(np_array)\n",
    "type(np_array)"
   ]
  },
  {
   "cell_type": "code",
   "execution_count": 12,
   "id": "def06de8-5343-4757-a591-d52463513063",
   "metadata": {},
   "outputs": [
    {
     "name": "stdout",
     "output_type": "stream",
     "text": [
      "[1 2 3 4]\n"
     ]
    }
   ],
   "source": [
    "# Creating a One dimmensional Array\n",
    "a = np.array([1,2,3,4])\n",
    "print(a)"
   ]
  },
  {
   "cell_type": "code",
   "execution_count": 13,
   "id": "1b2dfe4c-3b3d-4ddf-84f1-81625003a37e",
   "metadata": {},
   "outputs": [
    {
     "data": {
      "text/plain": [
       "(4,)"
      ]
     },
     "execution_count": 13,
     "metadata": {},
     "output_type": "execute_result"
    }
   ],
   "source": [
    "a.shape"
   ]
  },
  {
   "cell_type": "code",
   "execution_count": 16,
   "id": "9749a0dc-0dcc-4690-9e2c-31d8142a94a3",
   "metadata": {},
   "outputs": [
    {
     "name": "stdout",
     "output_type": "stream",
     "text": [
      "[[1 2 3 4]\n",
      " [5 6 7 8]]\n"
     ]
    }
   ],
   "source": [
    "# Creating Two dimensional Array\n",
    "b = np.array([(1,2,3,4), (5,6,7,8)])\n",
    "print(b)"
   ]
  },
  {
   "cell_type": "code",
   "execution_count": 17,
   "id": "cbfdb52a-24f9-45ff-ad0e-aedb1aab9e2e",
   "metadata": {},
   "outputs": [
    {
     "data": {
      "text/plain": [
       "(2, 4)"
      ]
     },
     "execution_count": 17,
     "metadata": {},
     "output_type": "execute_result"
    }
   ],
   "source": [
    "b.shape # (rows, columns)"
   ]
  },
  {
   "cell_type": "code",
   "execution_count": 18,
   "id": "355bae63-f109-4aea-bb56-c67f4a0c80bb",
   "metadata": {},
   "outputs": [
    {
     "name": "stdout",
     "output_type": "stream",
     "text": [
      "[[1. 2. 3. 4.]\n",
      " [5. 6. 7. 8.]]\n"
     ]
    }
   ],
   "source": [
    "c = np.array([(1,2,3,4), (5,6,7,8)], dtype=float)\n",
    "print(c)"
   ]
  },
  {
   "cell_type": "markdown",
   "id": "e6c47ca8-69ad-4632-acfe-570aec3864be",
   "metadata": {},
   "source": [
    "#### Initial Placeholders in numpy arrays"
   ]
  },
  {
   "cell_type": "code",
   "execution_count": 21,
   "id": "eb8e4189-6de8-4ce4-918f-d8eafc8ca4a2",
   "metadata": {},
   "outputs": [
    {
     "name": "stdout",
     "output_type": "stream",
     "text": [
      "[[0. 0. 0. 0. 0.]\n",
      " [0. 0. 0. 0. 0.]\n",
      " [0. 0. 0. 0. 0.]\n",
      " [0. 0. 0. 0. 0.]]\n"
     ]
    }
   ],
   "source": [
    "# Create a numpy array of Zeros \n",
    "x = np.zeros((4,5))\n",
    "print(x)"
   ]
  },
  {
   "cell_type": "code",
   "execution_count": 22,
   "id": "028fa587-8e42-4a2b-92c6-81d18d7ffab3",
   "metadata": {},
   "outputs": [
    {
     "name": "stdout",
     "output_type": "stream",
     "text": [
      "[[1. 1. 1. 1. 1.]\n",
      " [1. 1. 1. 1. 1.]\n",
      " [1. 1. 1. 1. 1.]\n",
      " [1. 1. 1. 1. 1.]]\n"
     ]
    }
   ],
   "source": [
    "# Create a numpy array of ones\n",
    "x = np.ones((4,5))\n",
    "print(x)"
   ]
  },
  {
   "cell_type": "code",
   "execution_count": 23,
   "id": "b49ea005-23eb-42a8-97e8-3ad3f4da3c17",
   "metadata": {},
   "outputs": [
    {
     "name": "stdout",
     "output_type": "stream",
     "text": [
      "[[5 5 5 5]\n",
      " [5 5 5 5]\n",
      " [5 5 5 5]\n",
      " [5 5 5 5]\n",
      " [5 5 5 5]]\n"
     ]
    }
   ],
   "source": [
    "z = np.full((5,4),5)\n",
    "print(z)"
   ]
  },
  {
   "cell_type": "code",
   "execution_count": 25,
   "id": "1dabb256-f42d-49b7-85cd-9aa3cc294faf",
   "metadata": {},
   "outputs": [
    {
     "name": "stdout",
     "output_type": "stream",
     "text": [
      "[[1. 0. 0. 0. 0.]\n",
      " [0. 1. 0. 0. 0.]\n",
      " [0. 0. 1. 0. 0.]\n",
      " [0. 0. 0. 1. 0.]\n",
      " [0. 0. 0. 0. 1.]]\n"
     ]
    }
   ],
   "source": [
    "# Create an identity matrix\n",
    "a = np.eye(5)\n",
    "print(a)"
   ]
  },
  {
   "cell_type": "code",
   "execution_count": 29,
   "id": "ddc4a14f-1373-4193-bf15-fc93f43c2b65",
   "metadata": {},
   "outputs": [
    {
     "name": "stdout",
     "output_type": "stream",
     "text": [
      "[[0.23895398 0.43331105 0.72467973 0.42348061]\n",
      " [0.06359584 0.32630745 0.8670804  0.54958514]\n",
      " [0.93292787 0.89141502 0.8031788  0.74445959]]\n"
     ]
    }
   ],
   "source": [
    "# Create a numpy array with random values\n",
    "\n",
    "b = np.random.random((3,4))\n",
    "print(b)"
   ]
  },
  {
   "cell_type": "code",
   "execution_count": 33,
   "id": "d06d45a3-f82e-479f-a0a5-91344a480c75",
   "metadata": {},
   "outputs": [
    {
     "name": "stdout",
     "output_type": "stream",
     "text": [
      "[[49 50 23 95 45]\n",
      " [88 91 63 56 68]\n",
      " [76 66 84 35 72]]\n"
     ]
    }
   ],
   "source": [
    "# random integer values array within a specific range\n",
    "\n",
    "c = np.random.randint(10, 100,(3,5)) # (start range, end range, (shape))\n",
    "print(c)"
   ]
  },
  {
   "cell_type": "code",
   "execution_count": 36,
   "id": "69bfbff1-e68b-45a4-87c0-2a11fca63d66",
   "metadata": {},
   "outputs": [
    {
     "name": "stdout",
     "output_type": "stream",
     "text": [
      "[10. 14. 18. 22. 26. 30.]\n"
     ]
    }
   ],
   "source": [
    "# Array of evenly spaced values\n",
    "d = np.linspace(10,30,6) # (start range, end range, number of values to be printed)\n",
    "print(d)"
   ]
  },
  {
   "cell_type": "code",
   "execution_count": 40,
   "id": "ed62e498-9cff-4218-8bd8-f53f07e387d8",
   "metadata": {},
   "outputs": [
    {
     "name": "stdout",
     "output_type": "stream",
     "text": [
      "[10 15 20 25]\n"
     ]
    }
   ],
   "source": [
    "#array of evenly spaced values  ---> specifying the step\n",
    "e = np.arange(10,30,5) # (Start range, end range, step value)\n",
    "print(e)"
   ]
  },
  {
   "cell_type": "markdown",
   "id": "259fdc68-6260-4bb4-b59d-58a331ce664c",
   "metadata": {},
   "source": [
    "#### Convert a list/tuple to an numpy array "
   ]
  },
  {
   "cell_type": "code",
   "execution_count": 43,
   "id": "2c85ea45-f720-4239-8ba8-9a778031d0de",
   "metadata": {},
   "outputs": [
    {
     "name": "stdout",
     "output_type": "stream",
     "text": [
      "[10 20 30 40 50]\n"
     ]
    },
    {
     "data": {
      "text/plain": [
       "numpy.ndarray"
      ]
     },
     "execution_count": 43,
     "metadata": {},
     "output_type": "execute_result"
    }
   ],
   "source": [
    "# Convert a list to an numpy array \n",
    "list2 = [10,20,30,40,50]\n",
    "\n",
    "np_array = np.asarray(list2)\n",
    "print(np_array)\n",
    "\n",
    "type(np_array)"
   ]
  },
  {
   "cell_type": "code",
   "execution_count": 44,
   "id": "6a02dcae-6930-4725-8fd6-06eae0484339",
   "metadata": {},
   "outputs": [
    {
     "name": "stdout",
     "output_type": "stream",
     "text": [
      "[1 2 3 4 5]\n"
     ]
    },
    {
     "data": {
      "text/plain": [
       "numpy.ndarray"
      ]
     },
     "execution_count": 44,
     "metadata": {},
     "output_type": "execute_result"
    }
   ],
   "source": [
    "tuple1 = (1,2,3,4,5)\n",
    "\n",
    "np_array = np.asarray(tuple1)\n",
    "print(np_array)\n",
    "\n",
    "type(np_array)"
   ]
  },
  {
   "cell_type": "markdown",
   "id": "a4f8a697-a470-4237-ad15-53cad171bcb4",
   "metadata": {},
   "source": [
    "#### Analysing a Numpy array"
   ]
  },
  {
   "cell_type": "code",
   "execution_count": 45,
   "id": "88454d11-7639-4bff-ae2f-c1e9d4bad4fc",
   "metadata": {},
   "outputs": [
    {
     "name": "stdout",
     "output_type": "stream",
     "text": [
      "[[25 83 16 60 75]\n",
      " [11 19 80 60 84]\n",
      " [42 65 52 50 67]\n",
      " [32 70 47 27 66]\n",
      " [83 13 13 45 66]]\n"
     ]
    }
   ],
   "source": [
    "c = np.random.randint(10,90, (5,5))\n",
    "print(c)"
   ]
  },
  {
   "cell_type": "code",
   "execution_count": 46,
   "id": "4c0fead7-1d39-46b4-9c6f-935a84773d63",
   "metadata": {},
   "outputs": [
    {
     "name": "stdout",
     "output_type": "stream",
     "text": [
      "(5, 5)\n"
     ]
    }
   ],
   "source": [
    "# Array dimension\n",
    "print(c.shape)"
   ]
  },
  {
   "cell_type": "code",
   "execution_count": 47,
   "id": "96699fb3-d81e-4b41-8594-8be5a3b08c67",
   "metadata": {},
   "outputs": [
    {
     "name": "stdout",
     "output_type": "stream",
     "text": [
      "2\n"
     ]
    }
   ],
   "source": [
    "# Number of dimensions\n",
    "print(c.ndim)\n"
   ]
  },
  {
   "cell_type": "code",
   "execution_count": 48,
   "id": "33f57a9d-70b5-4a82-8a57-a1e491122436",
   "metadata": {},
   "outputs": [
    {
     "name": "stdout",
     "output_type": "stream",
     "text": [
      "25\n"
     ]
    }
   ],
   "source": [
    "# Checking the number of elements in the array\n",
    "print(c.size)"
   ]
  },
  {
   "cell_type": "code",
   "execution_count": 49,
   "id": "7593ec26-4837-42c1-8217-52c5be601014",
   "metadata": {},
   "outputs": [
    {
     "name": "stdout",
     "output_type": "stream",
     "text": [
      "int32\n"
     ]
    }
   ],
   "source": [
    "# Checking the datatype of the values in the array\n",
    "print(c.dtype)"
   ]
  },
  {
   "cell_type": "markdown",
   "id": "834ed76b-1e5a-4715-807c-d3373507c724",
   "metadata": {},
   "source": [
    "#### Mathematical Operations on a Numpy array"
   ]
  },
  {
   "cell_type": "code",
   "execution_count": 51,
   "id": "bea752ef-5304-462b-9e95-8c251ae8ec3a",
   "metadata": {},
   "outputs": [
    {
     "name": "stdout",
     "output_type": "stream",
     "text": [
      "[1, 2, 3, 4, 5, 6, 7, 8, 9, 10]\n"
     ]
    }
   ],
   "source": [
    "list1 = [1,2,3,4,5]\n",
    "list2 = [6,7,8,9,10]\n",
    "\n",
    "print(list1 + list2) # Concatenates or joins the two lists"
   ]
  },
  {
   "cell_type": "code",
   "execution_count": 54,
   "id": "b9580706-70a7-4213-ba7e-e6e66643c55d",
   "metadata": {},
   "outputs": [
    {
     "name": "stdout",
     "output_type": "stream",
     "text": [
      "[[4 8 1]\n",
      " [0 1 6]\n",
      " [2 3 5]]\n",
      "[[18 19 13]\n",
      " [16 17 12]\n",
      " [14 18 18]]\n"
     ]
    }
   ],
   "source": [
    "# Instead of concatenating np arrays help us perform mathematical operations on these arrays\n",
    "a = np.random.randint(0,10,(3,3))\n",
    "b = np.random.randint(10,20,(3,3))\n",
    "print(a)\n",
    "print(b)"
   ]
  },
  {
   "cell_type": "code",
   "execution_count": 57,
   "id": "5f653e5e-5641-403f-8ca1-785cfe706fb4",
   "metadata": {},
   "outputs": [
    {
     "name": "stdout",
     "output_type": "stream",
     "text": [
      "[[22 27 14]\n",
      " [16 18 18]\n",
      " [16 21 23]]\n",
      "[[-14 -11 -12]\n",
      " [-16 -16  -6]\n",
      " [-12 -15 -13]]\n",
      "[[ 72 152  13]\n",
      " [  0  17  72]\n",
      " [ 28  54  90]]\n",
      "[[0.22222222 0.42105263 0.07692308]\n",
      " [0.         0.05882353 0.5       ]\n",
      " [0.14285714 0.16666667 0.27777778]]\n"
     ]
    }
   ],
   "source": [
    "print(a+b)\n",
    "\n",
    "print(a-b)\n",
    "\n",
    "print(a*b)\n",
    "\n",
    "print(a/b)"
   ]
  },
  {
   "cell_type": "code",
   "execution_count": 59,
   "id": "a3dd33f7-88d9-4cd6-b744-36dad2b104d0",
   "metadata": {},
   "outputs": [
    {
     "name": "stdout",
     "output_type": "stream",
     "text": [
      "[[22 27 14]\n",
      " [16 18 18]\n",
      " [16 21 23]]\n",
      "[[-14 -11 -12]\n",
      " [-16 -16  -6]\n",
      " [-12 -15 -13]]\n",
      "[[ 72 152  13]\n",
      " [  0  17  72]\n",
      " [ 28  54  90]]\n",
      "[[0.22222222 0.42105263 0.07692308]\n",
      " [0.         0.05882353 0.5       ]\n",
      " [0.14285714 0.16666667 0.27777778]]\n"
     ]
    }
   ],
   "source": [
    "print(np.add(a,b))\n",
    "print(np.subtract(a,b))\n",
    "print(np.multiply(a,b))\n",
    "print(np.divide(a,b))"
   ]
  },
  {
   "cell_type": "markdown",
   "id": "7c16b357-121b-4452-a125-c3c12c6812ac",
   "metadata": {},
   "source": [
    "#### Array Manipulation"
   ]
  },
  {
   "cell_type": "code",
   "execution_count": 60,
   "id": "f9e0313a-3478-4453-8d72-5897a88b31fb",
   "metadata": {},
   "outputs": [
    {
     "name": "stdout",
     "output_type": "stream",
     "text": [
      "[[4 3 1]\n",
      " [9 9 0]]\n",
      "(2, 3)\n"
     ]
    }
   ],
   "source": [
    "array = np.random.randint(0,10,(2,3))\n",
    "print(array)\n",
    "print(array.shape)"
   ]
  },
  {
   "cell_type": "code",
   "execution_count": 62,
   "id": "d1b0747a-8768-43ac-aa6e-cfbfd6273e9e",
   "metadata": {},
   "outputs": [
    {
     "name": "stdout",
     "output_type": "stream",
     "text": [
      "[[4 9]\n",
      " [3 9]\n",
      " [1 0]]\n",
      "(3, 2)\n"
     ]
    }
   ],
   "source": [
    "# Transpose\n",
    "transpose = np.transpose(array)\n",
    "print(transpose)\n",
    "print(transpose.shape)"
   ]
  },
  {
   "cell_type": "code",
   "execution_count": 63,
   "id": "a1b2e364-a6d9-47ca-84f7-b6f92dff0ab9",
   "metadata": {},
   "outputs": [
    {
     "name": "stdout",
     "output_type": "stream",
     "text": [
      "[[2 1 0]\n",
      " [0 1 5]]\n",
      "(2, 3)\n"
     ]
    }
   ],
   "source": [
    "array = np.random.randint(0,10,(2,3))\n",
    "print(array)\n",
    "print(array.shape)"
   ]
  },
  {
   "cell_type": "code",
   "execution_count": 64,
   "id": "2fdc1677-02c1-4ede-b50b-6b97744fd697",
   "metadata": {},
   "outputs": [
    {
     "name": "stdout",
     "output_type": "stream",
     "text": [
      "[[2 0]\n",
      " [1 1]\n",
      " [0 5]]\n"
     ]
    }
   ],
   "source": [
    "transpose2 = array.T\n",
    "print(transpose2)"
   ]
  },
  {
   "cell_type": "code",
   "execution_count": 65,
   "id": "5ce7ea49-9d37-4145-a7c7-5298c900e509",
   "metadata": {},
   "outputs": [
    {
     "name": "stdout",
     "output_type": "stream",
     "text": [
      "[[0 6 7]\n",
      " [4 9 0]]\n",
      "(2, 3)\n"
     ]
    }
   ],
   "source": [
    "# Reshaping the array\n",
    "a = np.random.randint(0,10,(2,3))\n",
    "print(a)\n",
    "print(a.shape)"
   ]
  },
  {
   "cell_type": "code",
   "execution_count": 67,
   "id": "d418efb8-ce5a-45e5-8cd6-3121dcf6294e",
   "metadata": {},
   "outputs": [
    {
     "name": "stdout",
     "output_type": "stream",
     "text": [
      "[[0 6]\n",
      " [7 4]\n",
      " [9 0]]\n",
      "(3, 2)\n"
     ]
    }
   ],
   "source": [
    "b = a.reshape(3,2)\n",
    "print(b)\n",
    "print(b.shape)"
   ]
  },
  {
   "cell_type": "code",
   "execution_count": null,
   "id": "cb7af009-56e2-4722-8591-9e8b8b5214c1",
   "metadata": {},
   "outputs": [],
   "source": []
  }
 ],
 "metadata": {
  "kernelspec": {
   "display_name": "Python 3 (ipykernel)",
   "language": "python",
   "name": "python3"
  },
  "language_info": {
   "codemirror_mode": {
    "name": "ipython",
    "version": 3
   },
   "file_extension": ".py",
   "mimetype": "text/x-python",
   "name": "python",
   "nbconvert_exporter": "python",
   "pygments_lexer": "ipython3",
   "version": "3.12.7"
  }
 },
 "nbformat": 4,
 "nbformat_minor": 5
}
